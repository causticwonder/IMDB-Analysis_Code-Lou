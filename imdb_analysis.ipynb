{
 "cells": [
  {
   "cell_type": "code",
   "execution_count": 3,
   "metadata": {},
   "outputs": [],
   "source": [
    "import pandas as pd \n",
    "import matplotlib.pyplot as plt\n",
    "import seaborn as sns"
   ]
  },
  {
   "cell_type": "code",
   "execution_count": 4,
   "metadata": {},
   "outputs": [
    {
     "name": "stderr",
     "output_type": "stream",
     "text": [
      "C:\\Users\\dange\\AppData\\Local\\Temp\\ipykernel_3440\\3668112850.py:2: DtypeWarning: Columns (4,5) have mixed types. Specify dtype option on import or set low_memory=False.\n",
      "  df = pd.read_csv('https://datasets.imdbws.com/title.basics.tsv.gz', sep='\\t')\n"
     ]
    },
    {
     "name": "stdout",
     "output_type": "stream",
     "text": [
      "['tconst', 'titleType', 'primaryTitle', 'originalTitle', 'isAdult', 'startYear', 'endYear', 'runtimeMinutes', 'genres']\n"
     ]
    }
   ],
   "source": [
    "#open imdb basics tsv.gz files with tab delimiter\n",
    "df = pd.read_csv('https://datasets.imdbws.com/title.basics.tsv.gz', sep='\\t') \n",
    "\n",
    "#print column headers\n",
    "my_list = list(df)\n",
    "print(my_list)\n",
    "\n"
   ]
  },
  {
   "cell_type": "code",
   "execution_count": 8,
   "metadata": {},
   "outputs": [],
   "source": [
    "#create second dataframe, extracting specific columns for analysis\n",
    "df2 = df[['tconst', 'titleType', 'primaryTitle']]\n",
    "\n",
    "#save df to csv for future use\n",
    "#df2.to_csv('title_basics.csv')\n"
   ]
  },
  {
   "cell_type": "code",
   "execution_count": 9,
   "metadata": {},
   "outputs": [
    {
     "name": "stdout",
     "output_type": "stream",
     "text": [
      "<bound method NDFrame.head of             tconst  averageRating  numVotes\n",
      "0        tt0000001            5.7      1921\n",
      "1        tt0000002            5.8       260\n",
      "2        tt0000003            6.5      1730\n",
      "3        tt0000004            5.6       174\n",
      "4        tt0000005            6.2      2544\n",
      "...            ...            ...       ...\n",
      "1243297  tt9916690            7.4         6\n",
      "1243298  tt9916720            5.3       274\n",
      "1243299  tt9916730            9.0         6\n",
      "1243300  tt9916766            6.7        21\n",
      "1243301  tt9916778            7.3        35\n",
      "\n",
      "[1243302 rows x 3 columns]>\n"
     ]
    }
   ],
   "source": [
    "df3 = pd.read_csv('https://datasets.imdbws.com/title.ratings.tsv.gz', sep='\\t')\n",
    "print(df3.head)"
   ]
  },
  {
   "cell_type": "code",
   "execution_count": 10,
   "metadata": {},
   "outputs": [
    {
     "name": "stdout",
     "output_type": "stream",
     "text": [
      "<bound method NDFrame.head of             tconst  titleType                    primaryTitle  averageRating  \\\n",
      "0        tt0000001      short                      Carmencita            5.7   \n",
      "1        tt0000002      short          Le clown et ses chiens            5.8   \n",
      "2        tt0000003      short                  Pauvre Pierrot            6.5   \n",
      "3        tt0000004      short                     Un bon bock            5.6   \n",
      "4        tt0000005      short                Blacksmith Scene            6.2   \n",
      "...            ...        ...                             ...            ...   \n",
      "1243297  tt9916690  tvEpisode  Horrid Henry Delivers the Milk            7.4   \n",
      "1243298  tt9916720      short                       The Nun 2            5.3   \n",
      "1243299  tt9916730      movie                          6 Gunn            9.0   \n",
      "1243300  tt9916766  tvEpisode                  Episode #10.15            6.7   \n",
      "1243301  tt9916778  tvEpisode                          Escape            7.3   \n",
      "\n",
      "         numVotes  \n",
      "0            1921  \n",
      "1             260  \n",
      "2            1730  \n",
      "3             174  \n",
      "4            2544  \n",
      "...           ...  \n",
      "1243297         6  \n",
      "1243298       274  \n",
      "1243299         6  \n",
      "1243300        21  \n",
      "1243301        35  \n",
      "\n",
      "[1243302 rows x 5 columns]>\n"
     ]
    }
   ],
   "source": [
    "#merge extracted df and ratings df into one usable construct\n",
    "df_merge = pd.merge(df2, df3, how = 'inner', on ='tconst')\n",
    "print(df_merge.head)"
   ]
  },
  {
   "cell_type": "code",
   "execution_count": 13,
   "metadata": {},
   "outputs": [
    {
     "name": "stdout",
     "output_type": "stream",
     "text": [
      "<bound method NDFrame.head of             tconst titleType                 primaryTitle  averageRating  \\\n",
      "8        tt0000009     movie                   Miss Jerry            5.2   \n",
      "325      tt0000502     movie                     Bohemios            4.2   \n",
      "357      tt0000574     movie  The Story of the Kelly Gang            6.0   \n",
      "364      tt0000591     movie             The Prodigal Son            5.1   \n",
      "378      tt0000615     movie           Robbery Under Arms            4.3   \n",
      "...            ...       ...                          ...            ...   \n",
      "1243280  tt9916270     movie     Il talento del calabrone            5.8   \n",
      "1243283  tt9916362     movie                        Coven            6.4   \n",
      "1243287  tt9916428     movie          The Secret of China            3.8   \n",
      "1243290  tt9916538     movie          Kuambil Lagi Hatiku            8.3   \n",
      "1243299  tt9916730     movie                       6 Gunn            9.0   \n",
      "\n",
      "         numVotes  \n",
      "8             200  \n",
      "325            14  \n",
      "357           794  \n",
      "364            20  \n",
      "378            23  \n",
      "...           ...  \n",
      "1243280      1370  \n",
      "1243283      4953  \n",
      "1243287        14  \n",
      "1243290         6  \n",
      "1243299         6  \n",
      "\n",
      "[282304 rows x 5 columns]>\n"
     ]
    }
   ],
   "source": [
    "# filter out all Non-movie rows\n",
    "df_merge2 = df_merge[df_merge['titleType'] == 'movie']\n",
    "print(df_merge2.head)"
   ]
  },
  {
   "cell_type": "code",
   "execution_count": 14,
   "metadata": {},
   "outputs": [
    {
     "name": "stdout",
     "output_type": "stream",
     "text": [
      "282304\n",
      "(282304, 5)\n"
     ]
    }
   ],
   "source": [
    "#start feature analysis here: length and shape of new dataframe/how much data do I have?\n",
    "#dataset size\n",
    "print(len(df_merge2)) \n",
    "\n",
    "#dataset shape\n",
    "print(df_merge2.shape) "
   ]
  },
  {
   "cell_type": "code",
   "execution_count": 15,
   "metadata": {},
   "outputs": [
    {
     "name": "stdout",
     "output_type": "stream",
     "text": [
      "6.182014778394922\n"
     ]
    }
   ],
   "source": [
    "#Feature 2: Average ratings of dataset\n",
    "df_ratings = df_merge2['averageRating'].mean() #find average or mean of averageRating column\n",
    "print(df_ratings)"
   ]
  },
  {
   "cell_type": "code",
   "execution_count": 16,
   "metadata": {},
   "outputs": [
    {
     "name": "stdout",
     "output_type": "stream",
     "text": [
      "       averageRating      numVotes\n",
      "count  282304.000000  2.823040e+05\n",
      "mean        6.182015  3.561688e+03\n",
      "std         1.362075  3.458187e+04\n",
      "min         1.000000  5.000000e+00\n",
      "25%         5.400000  1.900000e+01\n",
      "50%         6.300000  6.000000e+01\n",
      "75%         7.100000  3.070000e+02\n",
      "max        10.000000  2.656326e+06\n"
     ]
    }
   ],
   "source": [
    "#Feature 3: all stats for this dataset\n",
    "df_ratings2 = df_merge2.describe()\n",
    "print(df_ratings2)"
   ]
  },
  {
   "cell_type": "code",
   "execution_count": 17,
   "metadata": {},
   "outputs": [
    {
     "name": "stdout",
     "output_type": "stream",
     "text": [
      "3561.688077391748\n"
     ]
    }
   ],
   "source": [
    "#Feature 3: Average of number of votes each title received\n",
    "df_votes = df_merge2['numVotes'].mean()\n",
    "print(df_votes)"
   ]
  },
  {
   "cell_type": "code",
   "execution_count": 18,
   "metadata": {},
   "outputs": [
    {
     "name": "stdout",
     "output_type": "stream",
     "text": [
      "            tconst titleType                  primaryTitle  averageRating  \\\n",
      "1028     tt0002305     movie                 Life of Villa            7.7   \n",
      "1252     tt0003386     movie                   Sodoms Ende            7.7   \n",
      "1331     tt0003748     movie               Captain Alvarez            8.0   \n",
      "1345     tt0003819     movie          Dance of the Vampire            7.6   \n",
      "1413     tt0004167     movie                     Jane Eyre            7.6   \n",
      "...            ...       ...                           ...            ...   \n",
      "1243221  tt9914642     movie                     Albatross            8.3   \n",
      "1243222  tt9914644     movie  9/11: Escape from the Towers            8.3   \n",
      "1243259  tt9915872     movie          The Last White Witch            7.7   \n",
      "1243290  tt9916538     movie           Kuambil Lagi Hatiku            8.3   \n",
      "1243299  tt9916730     movie                        6 Gunn            9.0   \n",
      "\n",
      "         numVotes  \n",
      "1028           27  \n",
      "1252           15  \n",
      "1331           17  \n",
      "1345           20  \n",
      "1413           19  \n",
      "...           ...  \n",
      "1243221        42  \n",
      "1243222       106  \n",
      "1243259         8  \n",
      "1243290         6  \n",
      "1243299         6  \n",
      "\n",
      "[46260 rows x 5 columns]\n"
     ]
    }
   ],
   "source": [
    "# filter rows with average rating less than 7.5\n",
    "df_filtered_rating = df_merge2[df_merge2['averageRating'] >= 7.5]\n",
    "print(df_filtered_rating)"
   ]
  },
  {
   "cell_type": "code",
   "execution_count": 19,
   "metadata": {},
   "outputs": [
    {
     "name": "stdout",
     "output_type": "stream",
     "text": [
      "            tconst titleType          primaryTitle  averageRating  numVotes\n",
      "1028     tt0002305     movie         Life of Villa            7.7        27\n",
      "1252     tt0003386     movie           Sodoms Ende            7.7        15\n",
      "1331     tt0003748     movie       Captain Alvarez            8.0        17\n",
      "1345     tt0003819     movie  Dance of the Vampire            7.6        20\n",
      "1413     tt0004167     movie             Jane Eyre            7.6        19\n",
      "...            ...       ...                   ...            ...       ...\n",
      "1243203  tt9913936     movie              Paradise            7.5        58\n",
      "1243221  tt9914642     movie             Albatross            8.3        42\n",
      "1243259  tt9915872     movie  The Last White Witch            7.7         8\n",
      "1243290  tt9916538     movie   Kuambil Lagi Hatiku            8.3         6\n",
      "1243299  tt9916730     movie                6 Gunn            9.0         6\n",
      "\n",
      "[33801 rows x 5 columns]\n"
     ]
    }
   ],
   "source": [
    "#filter rows with average number of votes <= 75\n",
    "df_filtered_votes = df_filtered_rating[df_filtered_rating['numVotes'] <= 75]\n",
    "print(df_filtered_votes)"
   ]
  },
  {
   "cell_type": "code",
   "execution_count": 20,
   "metadata": {},
   "outputs": [
    {
     "name": "stdout",
     "output_type": "stream",
     "text": [
      "            tconst titleType                        primaryTitle  \\\n",
      "609904  tt13458442     movie          Vegan on a Jet Plane: Bali   \n",
      "606365  tt13388966     movie                       A Better Life   \n",
      "446993  tt10106416     movie           Honor Project Documentary   \n",
      "635814  tt14051362     movie                                Raka   \n",
      "955511   tt3835096     movie     The Film That Changed the World   \n",
      "...            ...       ...                                 ...   \n",
      "732854   tt1688465     movie               Terra Deu, Terra Come   \n",
      "81080    tt0110007     movie                         Hei shan lu   \n",
      "192333   tt0334231     movie         Reno: Rebel Without a Pause   \n",
      "192340   tt0334262     movie                               Ru yi   \n",
      "458714  tt10329696     movie  Self Discovery for Social Survival   \n",
      "\n",
      "        averageRating  numVotes  \n",
      "609904           10.0        13  \n",
      "606365           10.0        55  \n",
      "446993           10.0         8  \n",
      "635814           10.0         8  \n",
      "955511           10.0        13  \n",
      "...               ...       ...  \n",
      "732854            7.5        73  \n",
      "81080             7.5        14  \n",
      "192333            7.5        31  \n",
      "192340            7.5         8  \n",
      "458714            7.5        36  \n",
      "\n",
      "[33801 rows x 5 columns]\n"
     ]
    }
   ],
   "source": [
    "#sort data in descending order and print head\n",
    "sorted_df = df_filtered_votes.sort_values(by=['averageRating'], ascending=False)\n",
    "print(sorted_df)"
   ]
  },
  {
   "cell_type": "code",
   "execution_count": 21,
   "metadata": {},
   "outputs": [
    {
     "data": {
      "image/png": "[encoded data removed]",
      "text/plain": [
       "<Figure size 640x480 with 1 Axes>"
      ]
     },
     "metadata": {},
     "output_type": "display_data"
    }
   ],
   "source": [
    "# create histogram of sorted data\n",
    "plt.hist(sorted_df['averageRating'], bins=[7,8,9,10])\n",
    "\n",
    "plt.title('Average Rating by Number of Votes')\n",
    "plt.ylabel('Number of Votes')\n",
    "plt.xlabel('Average Rating')\n",
    "plt.show() "
   ]
  },
  {
   "cell_type": "code",
   "execution_count": null,
   "metadata": {},
   "outputs": [],
   "source": []
  }
 ],
 "metadata": {
  "kernelspec": {
   "display_name": "Python 3.10.7 64-bit",
   "language": "python",
   "name": "python3"
  },
  "language_info": {
   "codemirror_mode": {
    "name": "ipython",
    "version": 3
   },
   "file_extension": ".py",
   "mimetype": "text/x-python",
   "name": "python",
   "nbconvert_exporter": "python",
   "pygments_lexer": "ipython3",
   "version": "3.10.7"
  },
  "orig_nbformat": 4,
  "vscode": {
   "interpreter": {
    "hash": "2e9c25df0253b19710fd2eabc0119b804c820fc74e8ba938ebab686d76fc4dfb"
   }
  }
 },
 "nbformat": 4,
 "nbformat_minor": 2
}
