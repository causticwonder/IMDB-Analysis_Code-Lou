{
 "cells": [
  {
   "cell_type": "code",
   "execution_count": 2,
   "metadata": {},
   "outputs": [],
   "source": [
    "import pandas as pd \n",
    "import matplotlib.pyplot as plt"
   ]
  },
  {
   "cell_type": "markdown",
   "metadata": {},
   "source": [
    "Course Requirement 1: Read data in. "
   ]
  },
  {
   "cell_type": "code",
   "execution_count": 5,
   "metadata": {},
   "outputs": [
    {
     "name": "stdout",
     "output_type": "stream",
     "text": [
      "['tconst', 'titleType', 'primaryTitle', 'originalTitle', 'isAdult', 'startYear', 'endYear', 'runtimeMinutes', 'genres']\n"
     ]
    }
   ],
   "source": [
    "#open imdb basics tsv.gz files with tab delimiter\n",
    "df = pd.read_csv('https://datasets.imdbws.com/title.basics.tsv.gz', sep='\\t', low_memory=False) \n",
    "\n",
    "#print column headers\n",
    "my_list = list(df)\n",
    "print(my_list)\n",
    "\n"
   ]
  },
  {
   "cell_type": "markdown",
   "metadata": {},
   "source": [
    "Course requirement 2: manipulate and clean data. How: Extracting specific columns from the existing dataframe created by reading in the tsv file. "
   ]
  },
  {
   "cell_type": "code",
   "execution_count": 6,
   "metadata": {},
   "outputs": [],
   "source": [
    "#create second dataframe, extracting specific columns for analysis\n",
    "df2 = df[['tconst', 'titleType', 'primaryTitle']]\n",
    "\n"
   ]
  },
  {
   "cell_type": "markdown",
   "metadata": {},
   "source": [
    "Course requirement 1 again: Read in more data. The first dataset has a lot of data, but not the ratings and votes information, which is found in this another file. So I had to import the ratings file.  "
   ]
  },
  {
   "cell_type": "code",
   "execution_count": 7,
   "metadata": {},
   "outputs": [
    {
     "data": {
      "text/html": [
       "<div>\n",
       "<style scoped>\n",
       "    .dataframe tbody tr th:only-of-type {\n",
       "        vertical-align: middle;\n",
       "    }\n",
       "\n",
       "    .dataframe tbody tr th {\n",
       "        vertical-align: top;\n",
       "    }\n",
       "\n",
       "    .dataframe thead th {\n",
       "        text-align: right;\n",
       "    }\n",
       "</style>\n",
       "<table border=\"1\" class=\"dataframe\">\n",
       "  <thead>\n",
       "    <tr style=\"text-align: right;\">\n",
       "      <th></th>\n",
       "      <th>tconst</th>\n",
       "      <th>averageRating</th>\n",
       "      <th>numVotes</th>\n",
       "    </tr>\n",
       "  </thead>\n",
       "  <tbody>\n",
       "    <tr>\n",
       "      <th>0</th>\n",
       "      <td>tt0000001</td>\n",
       "      <td>5.7</td>\n",
       "      <td>1922</td>\n",
       "    </tr>\n",
       "    <tr>\n",
       "      <th>1</th>\n",
       "      <td>tt0000002</td>\n",
       "      <td>5.8</td>\n",
       "      <td>259</td>\n",
       "    </tr>\n",
       "    <tr>\n",
       "      <th>2</th>\n",
       "      <td>tt0000003</td>\n",
       "      <td>6.5</td>\n",
       "      <td>1733</td>\n",
       "    </tr>\n",
       "    <tr>\n",
       "      <th>3</th>\n",
       "      <td>tt0000004</td>\n",
       "      <td>5.6</td>\n",
       "      <td>174</td>\n",
       "    </tr>\n",
       "    <tr>\n",
       "      <th>4</th>\n",
       "      <td>tt0000005</td>\n",
       "      <td>6.2</td>\n",
       "      <td>2544</td>\n",
       "    </tr>\n",
       "  </tbody>\n",
       "</table>\n",
       "</div>"
      ],
      "text/plain": [
       "      tconst  averageRating  numVotes\n",
       "0  tt0000001            5.7      1922\n",
       "1  tt0000002            5.8       259\n",
       "2  tt0000003            6.5      1733\n",
       "3  tt0000004            5.6       174\n",
       "4  tt0000005            6.2      2544"
      ]
     },
     "execution_count": 7,
     "metadata": {},
     "output_type": "execute_result"
    }
   ],
   "source": [
    "df3 = pd.read_csv('https://datasets.imdbws.com/title.ratings.tsv.gz', sep='\\t')\n",
    "df3.head()"
   ]
  },
  {
   "cell_type": "markdown",
   "metadata": {},
   "source": [
    "Course requirement 2 again: Create a new dataframe by combining the two datasets above. "
   ]
  },
  {
   "cell_type": "code",
   "execution_count": 8,
   "metadata": {},
   "outputs": [
    {
     "data": {
      "text/html": [
       "<div>\n",
       "<style scoped>\n",
       "    .dataframe tbody tr th:only-of-type {\n",
       "        vertical-align: middle;\n",
       "    }\n",
       "\n",
       "    .dataframe tbody tr th {\n",
       "        vertical-align: top;\n",
       "    }\n",
       "\n",
       "    .dataframe thead th {\n",
       "        text-align: right;\n",
       "    }\n",
       "</style>\n",
       "<table border=\"1\" class=\"dataframe\">\n",
       "  <thead>\n",
       "    <tr style=\"text-align: right;\">\n",
       "      <th></th>\n",
       "      <th>tconst</th>\n",
       "      <th>titleType</th>\n",
       "      <th>primaryTitle</th>\n",
       "      <th>averageRating</th>\n",
       "      <th>numVotes</th>\n",
       "    </tr>\n",
       "  </thead>\n",
       "  <tbody>\n",
       "    <tr>\n",
       "      <th>0</th>\n",
       "      <td>tt0000001</td>\n",
       "      <td>short</td>\n",
       "      <td>Carmencita</td>\n",
       "      <td>5.7</td>\n",
       "      <td>1922</td>\n",
       "    </tr>\n",
       "    <tr>\n",
       "      <th>1</th>\n",
       "      <td>tt0000002</td>\n",
       "      <td>short</td>\n",
       "      <td>Le clown et ses chiens</td>\n",
       "      <td>5.8</td>\n",
       "      <td>259</td>\n",
       "    </tr>\n",
       "    <tr>\n",
       "      <th>2</th>\n",
       "      <td>tt0000003</td>\n",
       "      <td>short</td>\n",
       "      <td>Pauvre Pierrot</td>\n",
       "      <td>6.5</td>\n",
       "      <td>1733</td>\n",
       "    </tr>\n",
       "    <tr>\n",
       "      <th>3</th>\n",
       "      <td>tt0000004</td>\n",
       "      <td>short</td>\n",
       "      <td>Un bon bock</td>\n",
       "      <td>5.6</td>\n",
       "      <td>174</td>\n",
       "    </tr>\n",
       "    <tr>\n",
       "      <th>4</th>\n",
       "      <td>tt0000005</td>\n",
       "      <td>short</td>\n",
       "      <td>Blacksmith Scene</td>\n",
       "      <td>6.2</td>\n",
       "      <td>2544</td>\n",
       "    </tr>\n",
       "  </tbody>\n",
       "</table>\n",
       "</div>"
      ],
      "text/plain": [
       "      tconst titleType            primaryTitle  averageRating  numVotes\n",
       "0  tt0000001     short              Carmencita            5.7      1922\n",
       "1  tt0000002     short  Le clown et ses chiens            5.8       259\n",
       "2  tt0000003     short          Pauvre Pierrot            6.5      1733\n",
       "3  tt0000004     short             Un bon bock            5.6       174\n",
       "4  tt0000005     short        Blacksmith Scene            6.2      2544"
      ]
     },
     "execution_count": 8,
     "metadata": {},
     "output_type": "execute_result"
    }
   ],
   "source": [
    "#merge extracted df and ratings df into one usable construct\n",
    "df_merge = pd.merge(df2, df3, how = 'inner', on ='tconst')\n",
    "df_merge.head()"
   ]
  },
  {
   "cell_type": "markdown",
   "metadata": {},
   "source": [
    "Course requirement 2: More data cleaning, filtering out all non-movies from the dataset. There are a LOT of tv shows and shorts included with the IMDB dataset that I'm not interested in working with just yet. "
   ]
  },
  {
   "cell_type": "code",
   "execution_count": 9,
   "metadata": {},
   "outputs": [
    {
     "data": {
      "text/html": [
       "<div>\n",
       "<style scoped>\n",
       "    .dataframe tbody tr th:only-of-type {\n",
       "        vertical-align: middle;\n",
       "    }\n",
       "\n",
       "    .dataframe tbody tr th {\n",
       "        vertical-align: top;\n",
       "    }\n",
       "\n",
       "    .dataframe thead th {\n",
       "        text-align: right;\n",
       "    }\n",
       "</style>\n",
       "<table border=\"1\" class=\"dataframe\">\n",
       "  <thead>\n",
       "    <tr style=\"text-align: right;\">\n",
       "      <th></th>\n",
       "      <th>tconst</th>\n",
       "      <th>titleType</th>\n",
       "      <th>primaryTitle</th>\n",
       "      <th>averageRating</th>\n",
       "      <th>numVotes</th>\n",
       "    </tr>\n",
       "  </thead>\n",
       "  <tbody>\n",
       "    <tr>\n",
       "      <th>8</th>\n",
       "      <td>tt0000009</td>\n",
       "      <td>movie</td>\n",
       "      <td>Miss Jerry</td>\n",
       "      <td>5.2</td>\n",
       "      <td>200</td>\n",
       "    </tr>\n",
       "    <tr>\n",
       "      <th>325</th>\n",
       "      <td>tt0000502</td>\n",
       "      <td>movie</td>\n",
       "      <td>Bohemios</td>\n",
       "      <td>4.2</td>\n",
       "      <td>14</td>\n",
       "    </tr>\n",
       "    <tr>\n",
       "      <th>357</th>\n",
       "      <td>tt0000574</td>\n",
       "      <td>movie</td>\n",
       "      <td>The Story of the Kelly Gang</td>\n",
       "      <td>6.0</td>\n",
       "      <td>794</td>\n",
       "    </tr>\n",
       "    <tr>\n",
       "      <th>364</th>\n",
       "      <td>tt0000591</td>\n",
       "      <td>movie</td>\n",
       "      <td>The Prodigal Son</td>\n",
       "      <td>5.1</td>\n",
       "      <td>20</td>\n",
       "    </tr>\n",
       "    <tr>\n",
       "      <th>378</th>\n",
       "      <td>tt0000615</td>\n",
       "      <td>movie</td>\n",
       "      <td>Robbery Under Arms</td>\n",
       "      <td>4.3</td>\n",
       "      <td>23</td>\n",
       "    </tr>\n",
       "  </tbody>\n",
       "</table>\n",
       "</div>"
      ],
      "text/plain": [
       "        tconst titleType                 primaryTitle  averageRating  numVotes\n",
       "8    tt0000009     movie                   Miss Jerry            5.2       200\n",
       "325  tt0000502     movie                     Bohemios            4.2        14\n",
       "357  tt0000574     movie  The Story of the Kelly Gang            6.0       794\n",
       "364  tt0000591     movie             The Prodigal Son            5.1        20\n",
       "378  tt0000615     movie           Robbery Under Arms            4.3        23"
      ]
     },
     "execution_count": 9,
     "metadata": {},
     "output_type": "execute_result"
    }
   ],
   "source": [
    "# filter out all Non-movie rows\n",
    "df_merge2 = df_merge[df_merge['titleType'] == 'movie']\n",
    "df_merge2.head()"
   ]
  },
  {
   "cell_type": "markdown",
   "metadata": {},
   "source": [
    "Course requirement 3: \n",
    "Analysis 1. What is the length of the dataset? "
   ]
  },
  {
   "cell_type": "code",
   "execution_count": 10,
   "metadata": {},
   "outputs": [
    {
     "name": "stdout",
     "output_type": "stream",
     "text": [
      "282645\n",
      "(282645, 5)\n"
     ]
    }
   ],
   "source": [
    "#start feature analysis here: length and shape of new dataframe/how much data do I have?\n",
    "#dataset size\n",
    "print(len(df_merge2)) \n",
    "\n",
    "#dataset shape\n",
    "print(df_merge2.shape) "
   ]
  },
  {
   "cell_type": "markdown",
   "metadata": {},
   "source": [
    "Course requirement 3: \n",
    "Analysis 2: What is the average rating of the movies in this dataset?"
   ]
  },
  {
   "cell_type": "code",
   "execution_count": 11,
   "metadata": {},
   "outputs": [],
   "source": [
    "#Feature 2: Average ratings of dataset\n",
    "df_ratings = df_merge2['averageRating'].mean() #find average or mean of averageRating column\n"
   ]
  },
  {
   "cell_type": "markdown",
   "metadata": {},
   "source": [
    "Course requirement 3:\n",
    "Analysis 3: What are the basic stats for this dataset? How much info can I obtain from the describe function?"
   ]
  },
  {
   "cell_type": "code",
   "execution_count": 12,
   "metadata": {},
   "outputs": [
    {
     "data": {
      "text/html": [
       "<div>\n",
       "<style scoped>\n",
       "    .dataframe tbody tr th:only-of-type {\n",
       "        vertical-align: middle;\n",
       "    }\n",
       "\n",
       "    .dataframe tbody tr th {\n",
       "        vertical-align: top;\n",
       "    }\n",
       "\n",
       "    .dataframe thead th {\n",
       "        text-align: right;\n",
       "    }\n",
       "</style>\n",
       "<table border=\"1\" class=\"dataframe\">\n",
       "  <thead>\n",
       "    <tr style=\"text-align: right;\">\n",
       "      <th></th>\n",
       "      <th>averageRating</th>\n",
       "      <th>numVotes</th>\n",
       "    </tr>\n",
       "  </thead>\n",
       "  <tbody>\n",
       "    <tr>\n",
       "      <th>count</th>\n",
       "      <td>282645.000000</td>\n",
       "      <td>2.826450e+05</td>\n",
       "    </tr>\n",
       "    <tr>\n",
       "      <th>mean</th>\n",
       "      <td>6.183770</td>\n",
       "      <td>3.562504e+03</td>\n",
       "    </tr>\n",
       "    <tr>\n",
       "      <th>std</th>\n",
       "      <td>1.361383</td>\n",
       "      <td>3.459738e+04</td>\n",
       "    </tr>\n",
       "    <tr>\n",
       "      <th>min</th>\n",
       "      <td>1.000000</td>\n",
       "      <td>5.000000e+00</td>\n",
       "    </tr>\n",
       "    <tr>\n",
       "      <th>25%</th>\n",
       "      <td>5.400000</td>\n",
       "      <td>1.900000e+01</td>\n",
       "    </tr>\n",
       "    <tr>\n",
       "      <th>50%</th>\n",
       "      <td>6.300000</td>\n",
       "      <td>6.000000e+01</td>\n",
       "    </tr>\n",
       "    <tr>\n",
       "      <th>75%</th>\n",
       "      <td>7.100000</td>\n",
       "      <td>3.070000e+02</td>\n",
       "    </tr>\n",
       "    <tr>\n",
       "      <th>max</th>\n",
       "      <td>10.000000</td>\n",
       "      <td>2.658775e+06</td>\n",
       "    </tr>\n",
       "  </tbody>\n",
       "</table>\n",
       "</div>"
      ],
      "text/plain": [
       "       averageRating      numVotes\n",
       "count  282645.000000  2.826450e+05\n",
       "mean        6.183770  3.562504e+03\n",
       "std         1.361383  3.459738e+04\n",
       "min         1.000000  5.000000e+00\n",
       "25%         5.400000  1.900000e+01\n",
       "50%         6.300000  6.000000e+01\n",
       "75%         7.100000  3.070000e+02\n",
       "max        10.000000  2.658775e+06"
      ]
     },
     "execution_count": 12,
     "metadata": {},
     "output_type": "execute_result"
    }
   ],
   "source": [
    "#Feature 3: all stats for this dataset\n",
    "df_ratings2 = df_merge2.describe()\n",
    "df_ratings2"
   ]
  },
  {
   "cell_type": "markdown",
   "metadata": {},
   "source": [
    "Course requirement 3:\n",
    "Analsysis 4: What is the average number of votes each movie received?"
   ]
  },
  {
   "cell_type": "code",
   "execution_count": 13,
   "metadata": {},
   "outputs": [
    {
     "data": {
      "text/plain": [
       "3562.503610536185"
      ]
     },
     "execution_count": 13,
     "metadata": {},
     "output_type": "execute_result"
    }
   ],
   "source": [
    "#Feature 3: Average of number of votes each title received\n",
    "df_votes = df_merge2['numVotes'].mean()\n",
    "df_votes"
   ]
  },
  {
   "cell_type": "markdown",
   "metadata": {},
   "source": [
    "Course requirement 3:\n",
    "Analysis 5: Filter out all movies with an average rating of less than 7.5. How many movies does this leave me?"
   ]
  },
  {
   "cell_type": "code",
   "execution_count": 17,
   "metadata": {},
   "outputs": [
    {
     "name": "stdout",
     "output_type": "stream",
     "text": [
      "46383\n"
     ]
    }
   ],
   "source": [
    "# filter rows with average rating greater than 7.5\n",
    "df_filtered_rating = df_merge2[df_merge2['averageRating'] >= 7.5]\n",
    "df_filtered_rating.head()\n",
    "\n",
    "print(len(df_filtered_rating))\n"
   ]
  },
  {
   "cell_type": "markdown",
   "metadata": {},
   "source": [
    "Answer: Too many movies. (46383)\n",
    "\n",
    "Course requirement 3:\n",
    "Analysis 6: More filtering of data, removing anything with more than 75 votes.\n",
    "\n",
    "Still too many movies?"
   ]
  },
  {
   "cell_type": "code",
   "execution_count": 19,
   "metadata": {},
   "outputs": [
    {
     "name": "stdout",
     "output_type": "stream",
     "text": [
      "33913\n"
     ]
    }
   ],
   "source": [
    "#filter rows with average number of votes <= 75\n",
    "df_filtered_votes = df_filtered_rating[df_filtered_rating['numVotes'] <= 75]\n",
    "df_filtered_votes.head()\n",
    "\n",
    "print(len(df_filtered_votes))"
   ]
  },
  {
   "cell_type": "markdown",
   "metadata": {},
   "source": [
    "Answer: Yes. I do not want to attempt to watch 33000 movies. \n",
    "\n",
    "Course requirement 3:\n",
    "Analysis 7 (I lost count) Sort data in descending order. "
   ]
  },
  {
   "cell_type": "code",
   "execution_count": 20,
   "metadata": {},
   "outputs": [
    {
     "data": {
      "text/html": [
       "<div>\n",
       "<style scoped>\n",
       "    .dataframe tbody tr th:only-of-type {\n",
       "        vertical-align: middle;\n",
       "    }\n",
       "\n",
       "    .dataframe tbody tr th {\n",
       "        vertical-align: top;\n",
       "    }\n",
       "\n",
       "    .dataframe thead th {\n",
       "        text-align: right;\n",
       "    }\n",
       "</style>\n",
       "<table border=\"1\" class=\"dataframe\">\n",
       "  <thead>\n",
       "    <tr style=\"text-align: right;\">\n",
       "      <th></th>\n",
       "      <th>tconst</th>\n",
       "      <th>titleType</th>\n",
       "      <th>primaryTitle</th>\n",
       "      <th>averageRating</th>\n",
       "      <th>numVotes</th>\n",
       "    </tr>\n",
       "  </thead>\n",
       "  <tbody>\n",
       "    <tr>\n",
       "      <th>660980</th>\n",
       "      <td>tt14626184</td>\n",
       "      <td>movie</td>\n",
       "      <td>Scrum</td>\n",
       "      <td>10.0</td>\n",
       "      <td>19</td>\n",
       "    </tr>\n",
       "    <tr>\n",
       "      <th>768567</th>\n",
       "      <td>tt1847567</td>\n",
       "      <td>movie</td>\n",
       "      <td>Coyote Requiem</td>\n",
       "      <td>10.0</td>\n",
       "      <td>9</td>\n",
       "    </tr>\n",
       "    <tr>\n",
       "      <th>1171252</th>\n",
       "      <td>tt7860124</td>\n",
       "      <td>movie</td>\n",
       "      <td>Guru Geethaya</td>\n",
       "      <td>10.0</td>\n",
       "      <td>7</td>\n",
       "    </tr>\n",
       "    <tr>\n",
       "      <th>698312</th>\n",
       "      <td>tt15553478</td>\n",
       "      <td>movie</td>\n",
       "      <td>Blemish</td>\n",
       "      <td>10.0</td>\n",
       "      <td>6</td>\n",
       "    </tr>\n",
       "    <tr>\n",
       "      <th>556652</th>\n",
       "      <td>tt12273854</td>\n",
       "      <td>movie</td>\n",
       "      <td>Mile 19</td>\n",
       "      <td>10.0</td>\n",
       "      <td>9</td>\n",
       "    </tr>\n",
       "  </tbody>\n",
       "</table>\n",
       "</div>"
      ],
      "text/plain": [
       "             tconst titleType    primaryTitle  averageRating  numVotes\n",
       "660980   tt14626184     movie           Scrum           10.0        19\n",
       "768567    tt1847567     movie  Coyote Requiem           10.0         9\n",
       "1171252   tt7860124     movie   Guru Geethaya           10.0         7\n",
       "698312   tt15553478     movie         Blemish           10.0         6\n",
       "556652   tt12273854     movie         Mile 19           10.0         9"
      ]
     },
     "execution_count": 20,
     "metadata": {},
     "output_type": "execute_result"
    }
   ],
   "source": [
    "#sort data in descending order and print head\n",
    "sorted_df = df_filtered_votes.sort_values(by=['averageRating'], ascending=False)\n",
    "sorted_df.head()"
   ]
  },
  {
   "cell_type": "markdown",
   "metadata": {},
   "source": [
    "Course requirement 4: Plot data with matplotlib. I created a histogram using the average score and number of votes. "
   ]
  },
  {
   "cell_type": "code",
   "execution_count": 21,
   "metadata": {},
   "outputs": [
    {
     "data": {
      "image/png": "[encoded data removed]",
      "text/plain": [
       "<Figure size 640x480 with 1 Axes>"
      ]
     },
     "metadata": {},
     "output_type": "display_data"
    }
   ],
   "source": [
    "# create histogram of sorted data\n",
    "plt.hist(sorted_df['averageRating'])\n",
    "\n",
    "plt.title('Average Rating by Number of Votes')\n",
    "plt.ylabel('Number of Votes')\n",
    "plt.xlabel('Average Rating')\n",
    "plt.show() "
   ]
  },
  {
   "cell_type": "markdown",
   "metadata": {},
   "source": [
    "Course requirement 3:\n",
    "I filtered out everything that scored a 10 out of sheer curiosity. "
   ]
  },
  {
   "cell_type": "code",
   "execution_count": 25,
   "metadata": {},
   "outputs": [
    {
     "name": "stdout",
     "output_type": "stream",
     "text": [
      "122\n"
     ]
    }
   ],
   "source": [
    "# filter rows with average rating equals 10\n",
    "df_filtered_rating2 = df_merge2[df_merge2['averageRating'] == 10]\n",
    "df_filtered_rating2.head()\n",
    "\n",
    "print(len(df_filtered_rating2))"
   ]
  },
  {
   "cell_type": "markdown",
   "metadata": {},
   "source": [
    "Course requirement 4: Create a second plot. I created a scatterplot with matplotlib. "
   ]
  },
  {
   "cell_type": "code",
   "execution_count": 28,
   "metadata": {},
   "outputs": [
    {
     "data": {
      "text/plain": [
       "<function matplotlib.pyplot.show(close=None, block=None)>"
      ]
     },
     "execution_count": 28,
     "metadata": {},
     "output_type": "execute_result"
    },
    {
     "data": {
      "image/png": "[encoded data removed]",
      "text/plain": [
       "<Figure size 640x480 with 1 Axes>"
      ]
     },
     "metadata": {},
     "output_type": "display_data"
    }
   ],
   "source": [
    "df_filtered_rating.plot(kind='scatter', x ='averageRating', y = 'numVotes')\n",
    "plt.title('Average rating by number of votes')\n",
    "\n",
    "plt.show\n"
   ]
  },
  {
   "cell_type": "markdown",
   "metadata": {},
   "source": [
    "Bonus analysis! I wanted to find any horror movies that have a score of 10, but not a lot of votes. "
   ]
  },
  {
   "cell_type": "code",
   "execution_count": 29,
   "metadata": {},
   "outputs": [
    {
     "data": {
      "text/html": [
       "<div>\n",
       "<style scoped>\n",
       "    .dataframe tbody tr th:only-of-type {\n",
       "        vertical-align: middle;\n",
       "    }\n",
       "\n",
       "    .dataframe tbody tr th {\n",
       "        vertical-align: top;\n",
       "    }\n",
       "\n",
       "    .dataframe thead th {\n",
       "        text-align: right;\n",
       "    }\n",
       "</style>\n",
       "<table border=\"1\" class=\"dataframe\">\n",
       "  <thead>\n",
       "    <tr style=\"text-align: right;\">\n",
       "      <th></th>\n",
       "      <th>tconst</th>\n",
       "      <th>titleType</th>\n",
       "      <th>primaryTitle</th>\n",
       "      <th>genres</th>\n",
       "    </tr>\n",
       "  </thead>\n",
       "  <tbody>\n",
       "    <tr>\n",
       "      <th>0</th>\n",
       "      <td>tt0000001</td>\n",
       "      <td>short</td>\n",
       "      <td>Carmencita</td>\n",
       "      <td>Documentary,Short</td>\n",
       "    </tr>\n",
       "    <tr>\n",
       "      <th>1</th>\n",
       "      <td>tt0000002</td>\n",
       "      <td>short</td>\n",
       "      <td>Le clown et ses chiens</td>\n",
       "      <td>Animation,Short</td>\n",
       "    </tr>\n",
       "    <tr>\n",
       "      <th>2</th>\n",
       "      <td>tt0000003</td>\n",
       "      <td>short</td>\n",
       "      <td>Pauvre Pierrot</td>\n",
       "      <td>Animation,Comedy,Romance</td>\n",
       "    </tr>\n",
       "    <tr>\n",
       "      <th>3</th>\n",
       "      <td>tt0000004</td>\n",
       "      <td>short</td>\n",
       "      <td>Un bon bock</td>\n",
       "      <td>Animation,Short</td>\n",
       "    </tr>\n",
       "    <tr>\n",
       "      <th>4</th>\n",
       "      <td>tt0000005</td>\n",
       "      <td>short</td>\n",
       "      <td>Blacksmith Scene</td>\n",
       "      <td>Comedy,Short</td>\n",
       "    </tr>\n",
       "  </tbody>\n",
       "</table>\n",
       "</div>"
      ],
      "text/plain": [
       "      tconst titleType            primaryTitle                    genres\n",
       "0  tt0000001     short              Carmencita         Documentary,Short\n",
       "1  tt0000002     short  Le clown et ses chiens           Animation,Short\n",
       "2  tt0000003     short          Pauvre Pierrot  Animation,Comedy,Romance\n",
       "3  tt0000004     short             Un bon bock           Animation,Short\n",
       "4  tt0000005     short        Blacksmith Scene              Comedy,Short"
      ]
     },
     "execution_count": 29,
     "metadata": {},
     "output_type": "execute_result"
    }
   ],
   "source": [
    "#create new dataframe, including genre information\n",
    "df_horror = df[['tconst', 'titleType', 'primaryTitle', 'genres']]\n",
    "df_horror.head()\n"
   ]
  },
  {
   "cell_type": "markdown",
   "metadata": {},
   "source": [
    "Merging two datasets again, this time including genre information. "
   ]
  },
  {
   "cell_type": "code",
   "execution_count": null,
   "metadata": {},
   "outputs": [],
   "source": [
    "#merge extracted df and ratings df into one usable construct\n",
    "df_horror_merge = pd.merge(df_horror, df3, how = 'inner', on ='tconst')\n",
    "df_horror_merge.head()"
   ]
  },
  {
   "cell_type": "markdown",
   "metadata": {},
   "source": [
    "Filtering out all non-movies again."
   ]
  },
  {
   "cell_type": "code",
   "execution_count": null,
   "metadata": {},
   "outputs": [],
   "source": [
    "# filter out all Non-movie rows\n",
    "df_horror_2 = df_horror_merge[df_horror_merge['titleType'] == 'movie'] \n",
    "df_horror_2.head()"
   ]
  },
  {
   "cell_type": "markdown",
   "metadata": {},
   "source": [
    "Filtering out only horror movies. "
   ]
  },
  {
   "cell_type": "code",
   "execution_count": null,
   "metadata": {},
   "outputs": [],
   "source": [
    "# filter out all Horror movie rows\n",
    "df_horror_3 = df_horror_2[df_horror_2['genres'] == 'Horror'] \n",
    "df_horror_3.head()"
   ]
  },
  {
   "cell_type": "markdown",
   "metadata": {},
   "source": [
    "Filter out all horror movies with a score of 8.5 or higher. "
   ]
  },
  {
   "cell_type": "code",
   "execution_count": null,
   "metadata": {},
   "outputs": [],
   "source": [
    "# filter rows with average rating greater than or equal to 8.5\n",
    "df_filtered_horror = df_horror_3[df_horror_3['averageRating'] >= 8.5]\n",
    "df_filtered_horror.head()"
   ]
  },
  {
   "cell_type": "code",
   "execution_count": null,
   "metadata": {},
   "outputs": [],
   "source": [
    "# filter rows with less than 75 votes\n",
    "df_horror_votes = df_filtered_horror[df_filtered_horror['numVotes'] <= 75]\n",
    "df_horror_votes.head()\n"
   ]
  },
  {
   "cell_type": "code",
   "execution_count": null,
   "metadata": {},
   "outputs": [],
   "source": [
    "# filter rows with average rating of 9.5\n",
    "df_horror_10 = df_horror_votes[df_horror_votes['averageRating'] >= 9.5]\n",
    "df_horror_10.head()"
   ]
  }
 ],
 "metadata": {
  "kernelspec": {
   "display_name": "Python 3.10.7 64-bit",
   "language": "python",
   "name": "python3"
  },
  "language_info": {
   "codemirror_mode": {
    "name": "ipython",
    "version": 3
   },
   "file_extension": ".py",
   "mimetype": "text/x-python",
   "name": "python",
   "nbconvert_exporter": "python",
   "pygments_lexer": "ipython3",
   "version": "3.10.7"
  },
  "orig_nbformat": 4,
  "vscode": {
   "interpreter": {
    "hash": "2e9c25df0253b19710fd2eabc0119b804c820fc74e8ba938ebab686d76fc4dfb"
   }
  }
 },
 "nbformat": 4,
 "nbformat_minor": 2
}
