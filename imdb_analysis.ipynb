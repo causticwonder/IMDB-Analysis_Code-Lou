{
 "cells": [
  {
   "cell_type": "code",
   "execution_count": null,
   "metadata": {},
   "outputs": [],
   "source": [
    "import pandas as pd \n",
    "import matplotlib.pyplot as plt"
   ]
  },
  {
   "cell_type": "markdown",
   "metadata": {},
   "source": [
    "Course Requirement 1: Read data in. "
   ]
  },
  {
   "cell_type": "code",
   "execution_count": null,
   "metadata": {},
   "outputs": [],
   "source": [
    "#open imdb basics tsv.gz files with tab delimiter\n",
    "df = pd.read_csv('https://datasets.imdbws.com/title.basics.tsv.gz', sep='\\t', low_memory=False) \n",
    "\n",
    "#print column headers\n",
    "my_list = list(df)\n",
    "my_list.head()\n",
    "\n"
   ]
  },
  {
   "cell_type": "markdown",
   "metadata": {},
   "source": [
    "Course requirement 2: manipulate and clean data. How: Extracting specific columns from the existing dataframe created by reading in the tsv file. "
   ]
  },
  {
   "cell_type": "code",
   "execution_count": null,
   "metadata": {},
   "outputs": [],
   "source": [
    "#create second dataframe, extracting specific columns for analysis\n",
    "df2 = df[['tconst', 'titleType', 'primaryTitle']]\n",
    "\n"
   ]
  },
  {
   "cell_type": "markdown",
   "metadata": {},
   "source": [
    "Course requirement 1 again: Read in more data. The first dataset has a lot of data, but not the ratings and votes information, which is found in this another file. So I had to import the ratings file.  "
   ]
  },
  {
   "cell_type": "code",
   "execution_count": null,
   "metadata": {},
   "outputs": [],
   "source": [
    "df3 = pd.read_csv('https://datasets.imdbws.com/title.ratings.tsv.gz', sep='\\t')\n",
    "df3.head()"
   ]
  },
  {
   "cell_type": "markdown",
   "metadata": {},
   "source": [
    "Course requirement 2 again: Create a new dataframe by combining the two datasets above. "
   ]
  },
  {
   "cell_type": "code",
   "execution_count": null,
   "metadata": {},
   "outputs": [],
   "source": [
    "#merge extracted df and ratings df into one usable construct\n",
    "df_merge = pd.merge(df2, df3, how = 'inner', on ='tconst')\n",
    "df_merge.head()"
   ]
  },
  {
   "cell_type": "markdown",
   "metadata": {},
   "source": [
    "Course requirement 2: More data cleaning, filtering out all non-movies from the dataset. There are a LOT of tv shows and shorts included with the IMDB dataset that I'm not interested in working with just yet. "
   ]
  },
  {
   "cell_type": "code",
   "execution_count": null,
   "metadata": {},
   "outputs": [],
   "source": [
    "# filter out all Non-movie rows\n",
    "df_merge2 = df_merge[df_merge['titleType'] == 'movie']\n",
    "df_merge2.head()"
   ]
  },
  {
   "cell_type": "markdown",
   "metadata": {},
   "source": [
    "Course requirement 3: \n",
    "Analysis 1. What is the length of the dataset? "
   ]
  },
  {
   "cell_type": "code",
   "execution_count": null,
   "metadata": {},
   "outputs": [],
   "source": [
    "#start feature analysis here: length and shape of new dataframe/how much data do I have?\n",
    "#dataset size\n",
    "print(len(df_merge2)) \n",
    "\n",
    "#dataset shape\n",
    "print(df_merge2.shape) "
   ]
  },
  {
   "cell_type": "markdown",
   "metadata": {},
   "source": [
    "Course requirement 3: \n",
    "Analysis 2: What is the average rating of the movies in this dataset?"
   ]
  },
  {
   "cell_type": "code",
   "execution_count": null,
   "metadata": {},
   "outputs": [],
   "source": [
    "#Feature 2: Average ratings of dataset\n",
    "df_ratings = df_merge2['averageRating'].mean() #find average or mean of averageRating column\n"
   ]
  },
  {
   "cell_type": "markdown",
   "metadata": {},
   "source": [
    "Course requirement 3:\n",
    "Analysis 3: What are the basic stats for this dataset? How much info can I obtain from the describe function?"
   ]
  },
  {
   "cell_type": "code",
   "execution_count": null,
   "metadata": {},
   "outputs": [],
   "source": [
    "#Feature 3: all stats for this dataset\n",
    "df_ratings2 = df_merge2.describe()\n",
    "df_ratings2"
   ]
  },
  {
   "cell_type": "markdown",
   "metadata": {},
   "source": [
    "Course requirement 3:\n",
    "Analsysis 4: What is the average number of votes each movie received?"
   ]
  },
  {
   "cell_type": "code",
   "execution_count": null,
   "metadata": {},
   "outputs": [],
   "source": [
    "#Feature 3: Average of number of votes each title received\n",
    "df_votes = df_merge2['numVotes'].mean()\n",
    "df_votes"
   ]
  },
  {
   "cell_type": "markdown",
   "metadata": {},
   "source": [
    "Course requirement 3:\n",
    "Analysis 5: Filter out all movies with an average rating of less than 7.5. How many movies does this leave me?"
   ]
  },
  {
   "cell_type": "code",
   "execution_count": null,
   "metadata": {},
   "outputs": [],
   "source": [
    "# filter rows with average rating less than 7.5\n",
    "df_filtered_rating = df_merge2[df_merge2['averageRating'] >= 7.5]\n",
    "df_filtered_rating.head()\n",
    "\n",
    "print(len(df_filtered_rating))\n"
   ]
  },
  {
   "cell_type": "markdown",
   "metadata": {},
   "source": [
    "Answer: Too many movies.\n",
    "\n",
    "Course requirement 3:\n",
    "Analysis 6: More filtering of data, removing anything with more than 75 votes. "
   ]
  },
  {
   "cell_type": "code",
   "execution_count": null,
   "metadata": {},
   "outputs": [],
   "source": [
    "#filter rows with average number of votes <= 75\n",
    "df_filtered_votes = df_filtered_rating[df_filtered_rating['numVotes'] <= 75]\n",
    "df_filtered_votes.head()"
   ]
  },
  {
   "cell_type": "markdown",
   "metadata": {},
   "source": [
    "Course requirement 3:\n",
    "Analysis 7 (I lost count) Sort data in descending order. "
   ]
  },
  {
   "cell_type": "code",
   "execution_count": null,
   "metadata": {},
   "outputs": [],
   "source": [
    "#sort data in descending order and print head\n",
    "sorted_df = df_filtered_votes.sort_values(by=['averageRating'], ascending=False)\n",
    "sorted_df.head()"
   ]
  },
  {
   "cell_type": "markdown",
   "metadata": {},
   "source": [
    "Course requirement 4: Plot data with matplotlib. I created a histogram using the average score and number of votes. "
   ]
  },
  {
   "cell_type": "code",
   "execution_count": null,
   "metadata": {},
   "outputs": [],
   "source": [
    "# create histogram of sorted data\n",
    "plt.hist(sorted_df['averageRating'])\n",
    "\n",
    "plt.title('Average Rating by Number of Votes')\n",
    "plt.ylabel('Number of Votes')\n",
    "plt.xlabel('Average Rating')\n",
    "plt.show() "
   ]
  },
  {
   "cell_type": "markdown",
   "metadata": {},
   "source": [
    "Course requirement 3:\n",
    "I filtered out everything that scored a 10 out of sheer curiosity. "
   ]
  },
  {
   "cell_type": "code",
   "execution_count": null,
   "metadata": {},
   "outputs": [],
   "source": [
    "# filter rows with average rating equals 10\n",
    "df_filtered_rating2 = df_merge2[df_merge2['averageRating'] == 10]\n",
    "df_filtered_rating2.head()"
   ]
  },
  {
   "cell_type": "markdown",
   "metadata": {},
   "source": [
    "Course requirement 4: Create a second plot. I created a scatterplot with matplotlib. "
   ]
  },
  {
   "cell_type": "code",
   "execution_count": null,
   "metadata": {},
   "outputs": [],
   "source": [
    "df_filtered_rating.plot(kind='scatter', x ='averageRating', y = 'numVotes')\n",
    "plt.title('Average rating by number of votes')\n",
    "\n",
    "plt.show\n"
   ]
  },
  {
   "cell_type": "markdown",
   "metadata": {},
   "source": [
    "Bonus analysis! I wanted to find any horror movies that have a score of 10, but not a lot of votes. "
   ]
  },
  {
   "cell_type": "code",
   "execution_count": null,
   "metadata": {},
   "outputs": [],
   "source": [
    "#create new dataframe, including genre information\n",
    "df_horror = df[['tconst', 'titleType', 'primaryTitle', 'genres']]\n",
    "df_horror.head()\n"
   ]
  },
  {
   "cell_type": "markdown",
   "metadata": {},
   "source": [
    "Merging two datasets again, this time including genre information. "
   ]
  },
  {
   "cell_type": "code",
   "execution_count": null,
   "metadata": {},
   "outputs": [],
   "source": [
    "#merge extracted df and ratings df into one usable construct\n",
    "df_horror_merge = pd.merge(df_horror, df3, how = 'inner', on ='tconst')\n",
    "df_horror_merge.head()"
   ]
  },
  {
   "cell_type": "markdown",
   "metadata": {},
   "source": [
    "Filtering out all non-movies again."
   ]
  },
  {
   "cell_type": "code",
   "execution_count": null,
   "metadata": {},
   "outputs": [],
   "source": [
    "# filter out all Non-movie rows\n",
    "df_horror_2 = df_horror_merge[df_horror_merge['titleType'] == 'movie'] \n",
    "df_horror_2.head()"
   ]
  },
  {
   "cell_type": "markdown",
   "metadata": {},
   "source": [
    "Filtering out only horror movies. "
   ]
  },
  {
   "cell_type": "code",
   "execution_count": null,
   "metadata": {},
   "outputs": [],
   "source": [
    "# filter out all Horror movie rows\n",
    "df_horror_3 = df_horror_2[df_horror_2['genres'] == 'Horror'] \n",
    "df_horror_3.head()"
   ]
  },
  {
   "cell_type": "markdown",
   "metadata": {},
   "source": [
    "Filter out all horror movies with a score of 8.5 or higher. "
   ]
  },
  {
   "cell_type": "code",
   "execution_count": null,
   "metadata": {},
   "outputs": [],
   "source": [
    "# filter rows with average rating greater than or equal to 8.5\n",
    "df_filtered_horror = df_horror_3[df_horror_3['averageRating'] >= 8.5]\n",
    "df_filtered_horror.head()"
   ]
  },
  {
   "cell_type": "code",
   "execution_count": null,
   "metadata": {},
   "outputs": [],
   "source": [
    "# filter rows with less than 75 votes\n",
    "df_horror_votes = df_filtered_horror[df_filtered_horror['numVotes'] <= 75]\n",
    "df_horror_votes.head()\n"
   ]
  },
  {
   "cell_type": "markdown",
   "metadata": {},
   "source": [
    "Filtering out any horror movies with a score of 9.5 or higher. Maybe I can find these available online to watch?"
   ]
  },
  {
   "cell_type": "code",
   "execution_count": null,
   "metadata": {},
   "outputs": [],
   "source": [
    "# filter rows with average rating of 9.5\n",
    "df_horror_10 = df_horror_votes[df_horror_votes['averageRating'] >= 9.5]\n",
    "df_horror_10.head()"
   ]
  }
 ],
 "metadata": {
  "kernelspec": {
   "display_name": "Python 3.10.7 64-bit",
   "language": "python",
   "name": "python3"
  },
  "language_info": {
   "codemirror_mode": {
    "name": "ipython",
    "version": 3
   },
   "file_extension": ".py",
   "mimetype": "text/x-python",
   "name": "python",
   "nbconvert_exporter": "python",
   "pygments_lexer": "ipython3",
   "version": "3.10.7"
  },
  "orig_nbformat": 4,
  "vscode": {
   "interpreter": {
    "hash": "2e9c25df0253b19710fd2eabc0119b804c820fc74e8ba938ebab686d76fc4dfb"
   }
  }
 },
 "nbformat": 4,
 "nbformat_minor": 2
}
