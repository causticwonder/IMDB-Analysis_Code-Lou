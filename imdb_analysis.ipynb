{
 "cells": [
  {
   "cell_type": "code",
   "execution_count": 3,
   "metadata": {},
   "outputs": [],
   "source": [
    "import pandas as pd \n",
    "import matplotlib.pyplot as plt\n",
    "import seaborn as sns"
   ]
  },
  {
   "cell_type": "markdown",
   "metadata": {},
   "source": [
    "Course Requirement 1: Read data in. "
   ]
  },
  {
   "cell_type": "code",
   "execution_count": 4,
   "metadata": {},
   "outputs": [
    {
     "name": "stderr",
     "output_type": "stream",
     "text": [
      "C:\\Users\\dange\\AppData\\Local\\Temp\\ipykernel_3440\\3668112850.py:2: DtypeWarning: Columns (4,5) have mixed types. Specify dtype option on import or set low_memory=False.\n",
      "  df = pd.read_csv('https://datasets.imdbws.com/title.basics.tsv.gz', sep='\\t')\n"
     ]
    },
    {
     "name": "stdout",
     "output_type": "stream",
     "text": [
      "['tconst', 'titleType', 'primaryTitle', 'originalTitle', 'isAdult', 'startYear', 'endYear', 'runtimeMinutes', 'genres']\n"
     ]
    }
   ],
   "source": [
    "#open imdb basics tsv.gz files with tab delimiter\n",
    "df = pd.read_csv('https://datasets.imdbws.com/title.basics.tsv.gz', sep='\\t') \n",
    "\n",
    "#print column headers\n",
    "my_list = list(df)\n",
    "print(my_list)\n",
    "\n"
   ]
  },
  {
   "cell_type": "markdown",
   "metadata": {},
   "source": [
    "Course requirement 2: manipulate and clean data. How: Extracting specific columns from the existing dataframe created by reading in the tsv file. "
   ]
  },
  {
   "cell_type": "code",
   "execution_count": 8,
   "metadata": {},
   "outputs": [],
   "source": [
    "#create second dataframe, extracting specific columns for analysis\n",
    "df2 = df[['tconst', 'titleType', 'primaryTitle']]\n",
    "\n",
    "#save df to csv for future use\n",
    "#df2.to_csv('title_basics.csv')\n"
   ]
  },
  {
   "cell_type": "markdown",
   "metadata": {},
   "source": [
    "Course requirement 1 again: Read in more data. The first dataset had too much filler data, but none of the data I actually wanted to work with. So I had to bring in more. "
   ]
  },
  {
   "cell_type": "code",
   "execution_count": 9,
   "metadata": {},
   "outputs": [
    {
     "name": "stdout",
     "output_type": "stream",
     "text": [
      "<bound method NDFrame.head of             tconst  averageRating  numVotes\n",
      "0        tt0000001            5.7      1921\n",
      "1        tt0000002            5.8       260\n",
      "2        tt0000003            6.5      1730\n",
      "3        tt0000004            5.6       174\n",
      "4        tt0000005            6.2      2544\n",
      "...            ...            ...       ...\n",
      "1243297  tt9916690            7.4         6\n",
      "1243298  tt9916720            5.3       274\n",
      "1243299  tt9916730            9.0         6\n",
      "1243300  tt9916766            6.7        21\n",
      "1243301  tt9916778            7.3        35\n",
      "\n",
      "[1243302 rows x 3 columns]>\n"
     ]
    }
   ],
   "source": [
    "df3 = pd.read_csv('https://datasets.imdbws.com/title.ratings.tsv.gz', sep='\\t')\n",
    "print(df3.head)"
   ]
  },
  {
   "cell_type": "markdown",
   "metadata": {},
   "source": [
    "Course requirement 2 again: Create a new dataframe by combining the two datasets above. "
   ]
  },
  {
   "cell_type": "code",
   "execution_count": 10,
   "metadata": {},
   "outputs": [
    {
     "name": "stdout",
     "output_type": "stream",
     "text": [
      "<bound method NDFrame.head of             tconst  titleType                    primaryTitle  averageRating  \\\n",
      "0        tt0000001      short                      Carmencita            5.7   \n",
      "1        tt0000002      short          Le clown et ses chiens            5.8   \n",
      "2        tt0000003      short                  Pauvre Pierrot            6.5   \n",
      "3        tt0000004      short                     Un bon bock            5.6   \n",
      "4        tt0000005      short                Blacksmith Scene            6.2   \n",
      "...            ...        ...                             ...            ...   \n",
      "1243297  tt9916690  tvEpisode  Horrid Henry Delivers the Milk            7.4   \n",
      "1243298  tt9916720      short                       The Nun 2            5.3   \n",
      "1243299  tt9916730      movie                          6 Gunn            9.0   \n",
      "1243300  tt9916766  tvEpisode                  Episode #10.15            6.7   \n",
      "1243301  tt9916778  tvEpisode                          Escape            7.3   \n",
      "\n",
      "         numVotes  \n",
      "0            1921  \n",
      "1             260  \n",
      "2            1730  \n",
      "3             174  \n",
      "4            2544  \n",
      "...           ...  \n",
      "1243297         6  \n",
      "1243298       274  \n",
      "1243299         6  \n",
      "1243300        21  \n",
      "1243301        35  \n",
      "\n",
      "[1243302 rows x 5 columns]>\n"
     ]
    }
   ],
   "source": [
    "#merge extracted df and ratings df into one usable construct\n",
    "df_merge = pd.merge(df2, df3, how = 'inner', on ='tconst')\n",
    "print(df_merge.head)"
   ]
  },
  {
   "cell_type": "markdown",
   "metadata": {},
   "source": [
    "Course requirement 2: More data cleaning, filtering out all non-movies from the dataset. There are a LOT of tv shows and shorts included with the IMDB dataset that I'm not interested in working with just yet. "
   ]
  },
  {
   "cell_type": "code",
   "execution_count": 13,
   "metadata": {},
   "outputs": [
    {
     "name": "stdout",
     "output_type": "stream",
     "text": [
      "<bound method NDFrame.head of             tconst titleType                 primaryTitle  averageRating  \\\n",
      "8        tt0000009     movie                   Miss Jerry            5.2   \n",
      "325      tt0000502     movie                     Bohemios            4.2   \n",
      "357      tt0000574     movie  The Story of the Kelly Gang            6.0   \n",
      "364      tt0000591     movie             The Prodigal Son            5.1   \n",
      "378      tt0000615     movie           Robbery Under Arms            4.3   \n",
      "...            ...       ...                          ...            ...   \n",
      "1243280  tt9916270     movie     Il talento del calabrone            5.8   \n",
      "1243283  tt9916362     movie                        Coven            6.4   \n",
      "1243287  tt9916428     movie          The Secret of China            3.8   \n",
      "1243290  tt9916538     movie          Kuambil Lagi Hatiku            8.3   \n",
      "1243299  tt9916730     movie                       6 Gunn            9.0   \n",
      "\n",
      "         numVotes  \n",
      "8             200  \n",
      "325            14  \n",
      "357           794  \n",
      "364            20  \n",
      "378            23  \n",
      "...           ...  \n",
      "1243280      1370  \n",
      "1243283      4953  \n",
      "1243287        14  \n",
      "1243290         6  \n",
      "1243299         6  \n",
      "\n",
      "[282304 rows x 5 columns]>\n"
     ]
    }
   ],
   "source": [
    "# filter out all Non-movie rows\n",
    "df_merge2 = df_merge[df_merge['titleType'] == 'movie']\n",
    "print(df_merge2.head)"
   ]
  },
  {
   "cell_type": "markdown",
   "metadata": {},
   "source": [
    "Course requirement 3: \n",
    "Analysis 1. what is the length of the dataset? "
   ]
  },
  {
   "cell_type": "code",
   "execution_count": 14,
   "metadata": {},
   "outputs": [
    {
     "name": "stdout",
     "output_type": "stream",
     "text": [
      "282304\n",
      "(282304, 5)\n"
     ]
    }
   ],
   "source": [
    "#start feature analysis here: length and shape of new dataframe/how much data do I have?\n",
    "#dataset size\n",
    "print(len(df_merge2)) \n",
    "\n",
    "#dataset shape\n",
    "print(df_merge2.shape) "
   ]
  },
  {
   "cell_type": "markdown",
   "metadata": {},
   "source": [
    "Course requirement 3: \n",
    "Analysis 2: What is the average rating of the movies in this dataset?"
   ]
  },
  {
   "cell_type": "code",
   "execution_count": 15,
   "metadata": {},
   "outputs": [
    {
     "name": "stdout",
     "output_type": "stream",
     "text": [
      "6.182014778394922\n"
     ]
    }
   ],
   "source": [
    "#Feature 2: Average ratings of dataset\n",
    "df_ratings = df_merge2['averageRating'].mean() #find average or mean of averageRating column\n",
    "print(df_ratings)"
   ]
  },
  {
   "cell_type": "markdown",
   "metadata": {},
   "source": [
    "Course requirement 3:\n",
    "Analysis 3: What are the basic stats for this dataset? How much info can I obtain from the describe function?"
   ]
  },
  {
   "cell_type": "code",
   "execution_count": 16,
   "metadata": {},
   "outputs": [
    {
     "name": "stdout",
     "output_type": "stream",
     "text": [
      "       averageRating      numVotes\n",
      "count  282304.000000  2.823040e+05\n",
      "mean        6.182015  3.561688e+03\n",
      "std         1.362075  3.458187e+04\n",
      "min         1.000000  5.000000e+00\n",
      "25%         5.400000  1.900000e+01\n",
      "50%         6.300000  6.000000e+01\n",
      "75%         7.100000  3.070000e+02\n",
      "max        10.000000  2.656326e+06\n"
     ]
    }
   ],
   "source": [
    "#Feature 3: all stats for this dataset\n",
    "df_ratings2 = df_merge2.describe()\n",
    "print(df_ratings2)"
   ]
  },
  {
   "cell_type": "markdown",
   "metadata": {},
   "source": [
    "Course requirement 3:\n",
    "Analsysis 4: What is the average number of votes each movie received?"
   ]
  },
  {
   "cell_type": "code",
   "execution_count": 17,
   "metadata": {},
   "outputs": [
    {
     "name": "stdout",
     "output_type": "stream",
     "text": [
      "3561.688077391748\n"
     ]
    }
   ],
   "source": [
    "#Feature 3: Average of number of votes each title received\n",
    "df_votes = df_merge2['numVotes'].mean()\n",
    "print(df_votes)"
   ]
  },
  {
   "cell_type": "markdown",
   "metadata": {},
   "source": [
    "Course requirement 3:\n",
    "Analysis 5: Filter out all movies with an average rating of less than 7.5"
   ]
  },
  {
   "cell_type": "code",
   "execution_count": 18,
   "metadata": {},
   "outputs": [
    {
     "name": "stdout",
     "output_type": "stream",
     "text": [
      "            tconst titleType                  primaryTitle  averageRating  \\\n",
      "1028     tt0002305     movie                 Life of Villa            7.7   \n",
      "1252     tt0003386     movie                   Sodoms Ende            7.7   \n",
      "1331     tt0003748     movie               Captain Alvarez            8.0   \n",
      "1345     tt0003819     movie          Dance of the Vampire            7.6   \n",
      "1413     tt0004167     movie                     Jane Eyre            7.6   \n",
      "...            ...       ...                           ...            ...   \n",
      "1243221  tt9914642     movie                     Albatross            8.3   \n",
      "1243222  tt9914644     movie  9/11: Escape from the Towers            8.3   \n",
      "1243259  tt9915872     movie          The Last White Witch            7.7   \n",
      "1243290  tt9916538     movie           Kuambil Lagi Hatiku            8.3   \n",
      "1243299  tt9916730     movie                        6 Gunn            9.0   \n",
      "\n",
      "         numVotes  \n",
      "1028           27  \n",
      "1252           15  \n",
      "1331           17  \n",
      "1345           20  \n",
      "1413           19  \n",
      "...           ...  \n",
      "1243221        42  \n",
      "1243222       106  \n",
      "1243259         8  \n",
      "1243290         6  \n",
      "1243299         6  \n",
      "\n",
      "[46260 rows x 5 columns]\n"
     ]
    }
   ],
   "source": [
    "# filter rows with average rating less than 7.5\n",
    "df_filtered_rating = df_merge2[df_merge2['averageRating'] >= 7.5]\n",
    "print(df_filtered_rating)"
   ]
  },
  {
   "cell_type": "markdown",
   "metadata": {},
   "source": [
    "Course requirement 3:\n",
    "Analysis 6: More filtering of data, removing anything with more than 75 votes. "
   ]
  },
  {
   "cell_type": "code",
   "execution_count": 19,
   "metadata": {},
   "outputs": [
    {
     "name": "stdout",
     "output_type": "stream",
     "text": [
      "            tconst titleType          primaryTitle  averageRating  numVotes\n",
      "1028     tt0002305     movie         Life of Villa            7.7        27\n",
      "1252     tt0003386     movie           Sodoms Ende            7.7        15\n",
      "1331     tt0003748     movie       Captain Alvarez            8.0        17\n",
      "1345     tt0003819     movie  Dance of the Vampire            7.6        20\n",
      "1413     tt0004167     movie             Jane Eyre            7.6        19\n",
      "...            ...       ...                   ...            ...       ...\n",
      "1243203  tt9913936     movie              Paradise            7.5        58\n",
      "1243221  tt9914642     movie             Albatross            8.3        42\n",
      "1243259  tt9915872     movie  The Last White Witch            7.7         8\n",
      "1243290  tt9916538     movie   Kuambil Lagi Hatiku            8.3         6\n",
      "1243299  tt9916730     movie                6 Gunn            9.0         6\n",
      "\n",
      "[33801 rows x 5 columns]\n"
     ]
    }
   ],
   "source": [
    "#filter rows with average number of votes <= 75\n",
    "df_filtered_votes = df_filtered_rating[df_filtered_rating['numVotes'] <= 75]\n",
    "print(df_filtered_votes)"
   ]
  },
  {
   "cell_type": "markdown",
   "metadata": {},
   "source": [
    "Course requirement 3:\n",
    "Analysis 7? Sort data in descending order. "
   ]
  },
  {
   "cell_type": "code",
   "execution_count": 20,
   "metadata": {},
   "outputs": [
    {
     "name": "stdout",
     "output_type": "stream",
     "text": [
      "            tconst titleType                        primaryTitle  \\\n",
      "609904  tt13458442     movie          Vegan on a Jet Plane: Bali   \n",
      "606365  tt13388966     movie                       A Better Life   \n",
      "446993  tt10106416     movie           Honor Project Documentary   \n",
      "635814  tt14051362     movie                                Raka   \n",
      "955511   tt3835096     movie     The Film That Changed the World   \n",
      "...            ...       ...                                 ...   \n",
      "732854   tt1688465     movie               Terra Deu, Terra Come   \n",
      "81080    tt0110007     movie                         Hei shan lu   \n",
      "192333   tt0334231     movie         Reno: Rebel Without a Pause   \n",
      "192340   tt0334262     movie                               Ru yi   \n",
      "458714  tt10329696     movie  Self Discovery for Social Survival   \n",
      "\n",
      "        averageRating  numVotes  \n",
      "609904           10.0        13  \n",
      "606365           10.0        55  \n",
      "446993           10.0         8  \n",
      "635814           10.0         8  \n",
      "955511           10.0        13  \n",
      "...               ...       ...  \n",
      "732854            7.5        73  \n",
      "81080             7.5        14  \n",
      "192333            7.5        31  \n",
      "192340            7.5         8  \n",
      "458714            7.5        36  \n",
      "\n",
      "[33801 rows x 5 columns]\n"
     ]
    }
   ],
   "source": [
    "#sort data in descending order and print head\n",
    "sorted_df = df_filtered_votes.sort_values(by=['averageRating'], ascending=False)\n",
    "print(sorted_df)"
   ]
  },
  {
   "cell_type": "markdown",
   "metadata": {},
   "source": [
    "Course requirement 4: Plot data with matplotlib. I created a histogram using the average score and number of votes. "
   ]
  },
  {
   "cell_type": "code",
   "execution_count": 22,
   "metadata": {},
   "outputs": [
    {
     "data": {
      "image/png": "[encoded data removed]",
      "text/plain": [
       "<Figure size 640x480 with 1 Axes>"
      ]
     },
     "metadata": {},
     "output_type": "display_data"
    }
   ],
   "source": [
    "# create histogram of sorted data\n",
    "plt.hist(sorted_df['averageRating'])\n",
    "\n",
    "plt.title('Average Rating by Number of Votes')\n",
    "plt.ylabel('Number of Votes')\n",
    "plt.xlabel('Average Rating')\n",
    "plt.show() "
   ]
  },
  {
   "cell_type": "markdown",
   "metadata": {},
   "source": [
    "Course requirement 3:\n",
    "I filtered out everything that scored a 10 out of sheer curiosity. "
   ]
  },
  {
   "cell_type": "code",
   "execution_count": 23,
   "metadata": {},
   "outputs": [
    {
     "name": "stdout",
     "output_type": "stream",
     "text": [
      "            tconst titleType  \\\n",
      "75823    tt0103649     movie   \n",
      "109973   tt0160316     movie   \n",
      "124665   tt0189001     movie   \n",
      "144360   tt0231636     movie   \n",
      "148879   tt0242401     movie   \n",
      "...            ...       ...   \n",
      "1152962  tt7504100     movie   \n",
      "1168907  tt7860124     movie   \n",
      "1183263  tt8215820     movie   \n",
      "1201184  tt8695934     movie   \n",
      "1223058  tt9247516     movie   \n",
      "\n",
      "                                              primaryTitle  averageRating  \\\n",
      "75823                                        All I Know Is           10.0   \n",
      "109973                                  Girls Loving Girls           10.0   \n",
      "124665                               Pinagbuklod ng langit           10.0   \n",
      "144360                            Gatilleros del Rio Bravo           10.0   \n",
      "148879                                       Daku Mansingh           10.0   \n",
      "...                                                    ...            ...   \n",
      "1152962                                      Rooftop Story           10.0   \n",
      "1168907                                      Guru Geethaya           10.0   \n",
      "1183263  Are We Making a Film? Behind the Scenes: Follo...           10.0   \n",
      "1201184                            Deendayal Ek Yug Purush           10.0   \n",
      "1223058                                           Diaspora           10.0   \n",
      "\n",
      "         numVotes  \n",
      "75823           6  \n",
      "109973         14  \n",
      "124665          7  \n",
      "144360          8  \n",
      "148879          7  \n",
      "...           ...  \n",
      "1152962         5  \n",
      "1168907         6  \n",
      "1183263         8  \n",
      "1201184         9  \n",
      "1223058         8  \n",
      "\n",
      "[121 rows x 5 columns]\n"
     ]
    }
   ],
   "source": [
    "# filter rows with average rating equals 10\n",
    "df_filtered_rating2 = df_merge2[df_merge2['averageRating'] == 10]\n",
    "print(df_filtered_rating2)"
   ]
  },
  {
   "cell_type": "markdown",
   "metadata": {},
   "source": [
    "Course requirement 4: Create a second plot. I created a scatterplot with matplotlib. "
   ]
  },
  {
   "cell_type": "code",
   "execution_count": 36,
   "metadata": {},
   "outputs": [
    {
     "data": {
      "text/plain": [
       "<function matplotlib.pyplot.show(close=None, block=None)>"
      ]
     },
     "execution_count": 36,
     "metadata": {},
     "output_type": "execute_result"
    },
    {
     "data": {
      "image/png": "[encoded data removed]",
      "text/plain": [
       "<Figure size 640x480 with 1 Axes>"
      ]
     },
     "metadata": {},
     "output_type": "display_data"
    }
   ],
   "source": [
    "df_filtered_rating.plot(kind='scatter', x ='averageRating', y = 'numVotes')\n",
    "plt.title('Average rating by number of votes')\n",
    "\n",
    "plt.show\n"
   ]
  },
  {
   "cell_type": "markdown",
   "metadata": {},
   "source": [
    "Bonus analysis! I wanted to find any horror movies that have a score of 10, but not a lot of votes. "
   ]
  },
  {
   "cell_type": "code",
   "execution_count": 40,
   "metadata": {},
   "outputs": [
    {
     "name": "stdout",
     "output_type": "stream",
     "text": [
      "<bound method NDFrame.head of             tconst  titleType               primaryTitle  \\\n",
      "0        tt0000001      short                 Carmencita   \n",
      "1        tt0000002      short     Le clown et ses chiens   \n",
      "2        tt0000003      short             Pauvre Pierrot   \n",
      "3        tt0000004      short                Un bon bock   \n",
      "4        tt0000005      short           Blacksmith Scene   \n",
      "...            ...        ...                        ...   \n",
      "9342533  tt9916848  tvEpisode              Episode #3.17   \n",
      "9342534  tt9916850  tvEpisode              Episode #3.19   \n",
      "9342535  tt9916852  tvEpisode              Episode #3.20   \n",
      "9342536  tt9916856      short                   The Wind   \n",
      "9342537  tt9916880  tvEpisode  Horrid Henry Knows It All   \n",
      "\n",
      "                             genres  \n",
      "0                 Documentary,Short  \n",
      "1                   Animation,Short  \n",
      "2          Animation,Comedy,Romance  \n",
      "3                   Animation,Short  \n",
      "4                      Comedy,Short  \n",
      "...                             ...  \n",
      "9342533         Action,Drama,Family  \n",
      "9342534         Action,Drama,Family  \n",
      "9342535         Action,Drama,Family  \n",
      "9342536                       Short  \n",
      "9342537  Adventure,Animation,Comedy  \n",
      "\n",
      "[9342538 rows x 4 columns]>\n"
     ]
    }
   ],
   "source": [
    "#create new dataframe, including genre information\n",
    "df_horror = df[['tconst', 'titleType', 'primaryTitle', 'genres']]\n",
    "print(df_horror.head)\n",
    "\n"
   ]
  },
  {
   "cell_type": "markdown",
   "metadata": {},
   "source": [
    "Merging two datasets again, this time including genre information. "
   ]
  },
  {
   "cell_type": "code",
   "execution_count": 41,
   "metadata": {},
   "outputs": [
    {
     "name": "stdout",
     "output_type": "stream",
     "text": [
      "<bound method NDFrame.head of             tconst  titleType                    primaryTitle  \\\n",
      "0        tt0000001      short                      Carmencita   \n",
      "1        tt0000002      short          Le clown et ses chiens   \n",
      "2        tt0000003      short                  Pauvre Pierrot   \n",
      "3        tt0000004      short                     Un bon bock   \n",
      "4        tt0000005      short                Blacksmith Scene   \n",
      "...            ...        ...                             ...   \n",
      "1243297  tt9916690  tvEpisode  Horrid Henry Delivers the Milk   \n",
      "1243298  tt9916720      short                       The Nun 2   \n",
      "1243299  tt9916730      movie                          6 Gunn   \n",
      "1243300  tt9916766  tvEpisode                  Episode #10.15   \n",
      "1243301  tt9916778  tvEpisode                          Escape   \n",
      "\n",
      "                              genres  averageRating  numVotes  \n",
      "0                  Documentary,Short            5.7      1921  \n",
      "1                    Animation,Short            5.8       260  \n",
      "2           Animation,Comedy,Romance            6.5      1730  \n",
      "3                    Animation,Short            5.6       174  \n",
      "4                       Comedy,Short            6.2      2544  \n",
      "...                              ...            ...       ...  \n",
      "1243297   Adventure,Animation,Comedy            7.4         6  \n",
      "1243298        Comedy,Horror,Mystery            5.3       274  \n",
      "1243299                           \\N            9.0         6  \n",
      "1243300  Family,Game-Show,Reality-TV            6.7        21  \n",
      "1243301          Crime,Drama,Mystery            7.3        35  \n",
      "\n",
      "[1243302 rows x 6 columns]>\n"
     ]
    }
   ],
   "source": [
    "#merge extracted df and ratings df into one usable construct\n",
    "df_horror_merge = pd.merge(df_horror, df3, how = 'inner', on ='tconst')\n",
    "print(df_horror_merge.head)"
   ]
  },
  {
   "cell_type": "markdown",
   "metadata": {},
   "source": [
    "Filtering out all non-movies again"
   ]
  },
  {
   "cell_type": "code",
   "execution_count": 44,
   "metadata": {},
   "outputs": [
    {
     "name": "stdout",
     "output_type": "stream",
     "text": [
      "<bound method NDFrame.head of             tconst titleType                 primaryTitle  \\\n",
      "8        tt0000009     movie                   Miss Jerry   \n",
      "325      tt0000502     movie                     Bohemios   \n",
      "357      tt0000574     movie  The Story of the Kelly Gang   \n",
      "364      tt0000591     movie             The Prodigal Son   \n",
      "378      tt0000615     movie           Robbery Under Arms   \n",
      "...            ...       ...                          ...   \n",
      "1243280  tt9916270     movie     Il talento del calabrone   \n",
      "1243283  tt9916362     movie                        Coven   \n",
      "1243287  tt9916428     movie          The Secret of China   \n",
      "1243290  tt9916538     movie          Kuambil Lagi Hatiku   \n",
      "1243299  tt9916730     movie                       6 Gunn   \n",
      "\n",
      "                             genres  averageRating  numVotes  \n",
      "8                           Romance            5.2       200  \n",
      "325                              \\N            4.2        14  \n",
      "357      Action,Adventure,Biography            6.0       794  \n",
      "364                           Drama            5.1        20  \n",
      "378                           Drama            4.3        23  \n",
      "...                             ...            ...       ...  \n",
      "1243280                    Thriller            5.8      1370  \n",
      "1243283               Drama,History            6.4      4953  \n",
      "1243287       Adventure,History,War            3.8        14  \n",
      "1243290                       Drama            8.3         6  \n",
      "1243299                          \\N            9.0         6  \n",
      "\n",
      "[282304 rows x 6 columns]>\n"
     ]
    }
   ],
   "source": [
    "# filter out all Non-movie rows\n",
    "df_horror_2 = df_horror_merge[df_horror_merge['titleType'] == 'movie'] \n",
    "print(df_horror_2.head)"
   ]
  },
  {
   "cell_type": "markdown",
   "metadata": {},
   "source": []
  },
  {
   "cell_type": "code",
   "execution_count": 48,
   "metadata": {},
   "outputs": [
    {
     "name": "stdout",
     "output_type": "stream",
     "text": [
      "<bound method NDFrame.head of             tconst titleType                 primaryTitle  genres  \\\n",
      "1387     tt0004026     movie                    The Golem  Horror   \n",
      "1498     tt0004573     movie           Ein seltsamer Fall  Horror   \n",
      "1799     tt0006238     movie           Zhenshchina vampir  Horror   \n",
      "2124     tt0007983     movie                       Furcht  Horror   \n",
      "2147     tt0008099     movie     Hilde Warren und der Tod  Horror   \n",
      "...            ...       ...                          ...     ...   \n",
      "1242745  tt9900552     movie  The Sacred Riana: Beginning  Horror   \n",
      "1242834  tt9903890     movie             The Curse of EVE  Horror   \n",
      "1242875  tt9904820     movie        American Terror Story  Horror   \n",
      "1242915  tt9906128     movie             Leak (Penangkeb)  Horror   \n",
      "1243037  tt9910530     movie                   Svartklubb  Horror   \n",
      "\n",
      "         averageRating  numVotes  \n",
      "1387               6.7      1182  \n",
      "1498               5.8        14  \n",
      "1799               7.6        37  \n",
      "2124               6.2       182  \n",
      "2147               5.8       127  \n",
      "...                ...       ...  \n",
      "1242745            4.6       125  \n",
      "1242834            5.4        25  \n",
      "1242875            2.9        62  \n",
      "1242915            6.6         9  \n",
      "1243037            7.0        24  \n",
      "\n",
      "[6463 rows x 6 columns]>\n"
     ]
    }
   ],
   "source": [
    "# filter out all Horror movie rows\n",
    "df_horror_3 = df_horror_2[df_horror_2['genres'] == 'Horror'] \n",
    "print(df_horror_3.head)"
   ]
  },
  {
   "cell_type": "markdown",
   "metadata": {},
   "source": [
    "Filter out all horror movies with a score of 10. "
   ]
  },
  {
   "cell_type": "code",
   "execution_count": 51,
   "metadata": {},
   "outputs": [
    {
     "name": "stdout",
     "output_type": "stream",
     "text": [
      "             tconst titleType                                 primaryTitle  \\\n",
      "216858    tt0391842     movie                                  Camp D.O.A.   \n",
      "240827    tt0449227     movie                                  Don't Blink   \n",
      "435937    tt0976146     movie                                       Martyr   \n",
      "453724   tt10234010     movie                  Dark Ditties Presents 'Dad'   \n",
      "458311   tt10323428     movie                                   Evil Lurks   \n",
      "...             ...       ...                                          ...   \n",
      "1130930   tt6990316     movie  Phantom of the Opera at the London Coliseum   \n",
      "1155485   tt7556244     movie                                     Grinders   \n",
      "1157476   tt7600566     movie      Dark Ditties Presents 'Finders Keepers'   \n",
      "1191713   tt8428550     movie                                       Canvas   \n",
      "1222239   tt9221802     movie                             Seton Falls Park   \n",
      "\n",
      "         genres  averageRating  numVotes  \n",
      "216858   Horror            8.5        12  \n",
      "240827   Horror            8.6         8  \n",
      "435937   Horror            8.9        17  \n",
      "453724   Horror            8.7        10  \n",
      "458311   Horror            9.8         8  \n",
      "...         ...            ...       ...  \n",
      "1130930  Horror            8.6        12  \n",
      "1155485  Horror            8.8        16  \n",
      "1157476  Horror            9.2        17  \n",
      "1191713  Horror            8.6       529  \n",
      "1222239  Horror            9.2        14  \n",
      "\n",
      "[64 rows x 6 columns]\n"
     ]
    }
   ],
   "source": [
    "# filter rows with average rating greater than or equal to 8.5\n",
    "df_filtered_horror = df_horror_3[df_horror_3['averageRating'] >= 8.5]\n",
    "print(df_filtered_horror)"
   ]
  },
  {
   "cell_type": "code",
   "execution_count": 56,
   "metadata": {},
   "outputs": [
    {
     "name": "stdout",
     "output_type": "stream",
     "text": [
      "             tconst titleType                                 primaryTitle  \\\n",
      "216858    tt0391842     movie                                  Camp D.O.A.   \n",
      "240827    tt0449227     movie                                  Don't Blink   \n",
      "435937    tt0976146     movie                                       Martyr   \n",
      "453724   tt10234010     movie                  Dark Ditties Presents 'Dad'   \n",
      "458311   tt10323428     movie                                   Evil Lurks   \n",
      "474867   tt10638522     movie                                   Talk to Me   \n",
      "481267   tt10763342     movie                                  I'm Haunted   \n",
      "490242   tt10943762     movie                        The Red Tide Massacre   \n",
      "510805   tt11319994     movie                                     Remnants   \n",
      "516646   tt11436686     movie                            St. Patrick's Day   \n",
      "547532    tt1207918     movie                       At lumaganap ang lagim   \n",
      "577261   tt12767794     movie                                       Empire   \n",
      "580742   tt12842808     movie                                 Rumah Pasung   \n",
      "589878   tt13044858     movie                                My Cherry Pie   \n",
      "592276   tt13091802     movie                                       Eihwaz   \n",
      "601401   tt13287064     movie                 Tales of a Scorpio's Stinger   \n",
      "611512   tt13491170     movie                      Curse of the Werehuahua   \n",
      "632137   tt13962396     movie                                    Bedridden   \n",
      "636792   tt14074042     movie                            Death, My Darling   \n",
      "650195   tt14391264     movie          Lucifer'e and The Great Controversy   \n",
      "657859   tt14571220     movie                                 8 Found Dead   \n",
      "673526   tt14966920     movie                                      Shifted   \n",
      "674547   tt14994886     movie                                   The whammy   \n",
      "685283   tt15249650     movie        Gravedigger Dave's Anthology Festival   \n",
      "691934   tt15412828     movie      Holes in the Sky: The Sean Miller Story   \n",
      "720162   tt16350506     movie                                 Loving Polly   \n",
      "730257   tt16751496     movie                   The History That Haunts Us   \n",
      "761862   tt18259430     movie                         Blood Sick Psychosis   \n",
      "761931   tt18260604     movie                               Kapo Kalpitham   \n",
      "764401   tt18332884     movie                                    Black Dog   \n",
      "788892    tt1975310     movie                                   Tomato Man   \n",
      "792456   tt19886496     movie                                  The Shimian   \n",
      "805495   tt20724798     movie                        Rip Real Horror Story   \n",
      "818657   tt21329580     movie                                    Tahoe Joe   \n",
      "818961   tt21340594     movie                 The Children Under the House   \n",
      "827623   tt21815772     movie                            Spoonful of Sugar   \n",
      "828965    tt2187185     movie                                       Ward 3   \n",
      "839228    tt2246695     movie             Frankenstein's Patchwork Monster   \n",
      "840601    tt2255946     movie                                      Shadows   \n",
      "845853   tt22940988     movie                                  Ribspreader   \n",
      "849596    tt2322496     movie                                        Venge   \n",
      "852647    tt2346094     movie                              Girls on a Boat   \n",
      "863413    tt2431128     movie                                   House Call   \n",
      "874656    tt2592964     movie                           Mangrove Slasher 2   \n",
      "885668    tt2763068     movie                 The Games That Children Play   \n",
      "980503    tt4270112     movie                                  Restoration   \n",
      "999077    tt4596064     movie                                 Cannibillies   \n",
      "1014999   tt4890154     movie                                 The Abducted   \n",
      "1017331   tt4939078     movie                  Sins of Man: Rise of Mortis   \n",
      "1055053   tt5587212     movie                                    Gateseven   \n",
      "1076829   tt5951250     movie                                       Hamlin   \n",
      "1082148   tt6039316     movie                        Oscuro by Rene Potter   \n",
      "1130930   tt6990316     movie  Phantom of the Opera at the London Coliseum   \n",
      "1155485   tt7556244     movie                                     Grinders   \n",
      "1157476   tt7600566     movie      Dark Ditties Presents 'Finders Keepers'   \n",
      "1222239   tt9221802     movie                             Seton Falls Park   \n",
      "\n",
      "         genres  averageRating  numVotes  \n",
      "216858   Horror            8.5        12  \n",
      "240827   Horror            8.6         8  \n",
      "435937   Horror            8.9        17  \n",
      "453724   Horror            8.7        10  \n",
      "458311   Horror            9.8         8  \n",
      "474867   Horror            9.1        24  \n",
      "481267   Horror            9.0        20  \n",
      "490242   Horror            9.7         9  \n",
      "510805   Horror            9.0        13  \n",
      "516646   Horror            8.6        17  \n",
      "547532   Horror            8.8        14  \n",
      "577261   Horror            8.9        17  \n",
      "580742   Horror            8.5         7  \n",
      "589878   Horror            8.6        20  \n",
      "592276   Horror            8.7         7  \n",
      "601401   Horror            8.6        20  \n",
      "611512   Horror            8.6         8  \n",
      "632137   Horror            8.6         6  \n",
      "636792   Horror            8.6        23  \n",
      "650195   Horror            9.3        13  \n",
      "657859   Horror            9.3         6  \n",
      "673526   Horror            8.7        23  \n",
      "674547   Horror            8.6        23  \n",
      "685283   Horror            8.8        10  \n",
      "691934   Horror            9.0        34  \n",
      "720162   Horror            8.9        38  \n",
      "730257   Horror            8.9        10  \n",
      "761862   Horror            8.7         7  \n",
      "761931   Horror            8.8         8  \n",
      "764401   Horror            8.5        16  \n",
      "788892   Horror            8.6        19  \n",
      "792456   Horror            8.6        13  \n",
      "805495   Horror            9.0        10  \n",
      "818657   Horror            8.5        11  \n",
      "818961   Horror            8.9        28  \n",
      "827623   Horror            8.6        14  \n",
      "828965   Horror            9.0        20  \n",
      "839228   Horror            9.0        11  \n",
      "840601   Horror            9.0         8  \n",
      "845853   Horror            8.6        11  \n",
      "849596   Horror            9.4        10  \n",
      "852647   Horror            9.5        14  \n",
      "863413   Horror            9.2        20  \n",
      "874656   Horror            8.7        16  \n",
      "885668   Horror            8.6        14  \n",
      "980503   Horror            8.6         9  \n",
      "999077   Horror            8.9        22  \n",
      "1014999  Horror            8.5        60  \n",
      "1017331  Horror            9.0         7  \n",
      "1055053  Horror            8.5         8  \n",
      "1076829  Horror            8.6        16  \n",
      "1082148  Horror            8.6        24  \n",
      "1130930  Horror            8.6        12  \n",
      "1155485  Horror            8.8        16  \n",
      "1157476  Horror            9.2        17  \n",
      "1222239  Horror            9.2        14  \n"
     ]
    }
   ],
   "source": [
    "# filter rows with less than 75 votes\n",
    "df_horror_votes = df_filtered_horror[df_filtered_horror['numVotes'] <= 75]\n",
    "print(df_horror_votes)\n"
   ]
  },
  {
   "cell_type": "markdown",
   "metadata": {},
   "source": [
    "Filter out any movies with a score of 9.5 or higher.\n",
    "\n",
    "And now I have a list of new horror movies to watch. :)"
   ]
  },
  {
   "cell_type": "code",
   "execution_count": 59,
   "metadata": {},
   "outputs": [
    {
     "name": "stdout",
     "output_type": "stream",
     "text": [
      "            tconst titleType           primaryTitle  genres  averageRating  \\\n",
      "458311  tt10323428     movie             Evil Lurks  Horror            9.8   \n",
      "490242  tt10943762     movie  The Red Tide Massacre  Horror            9.7   \n",
      "852647   tt2346094     movie        Girls on a Boat  Horror            9.5   \n",
      "\n",
      "        numVotes  \n",
      "458311         8  \n",
      "490242         9  \n",
      "852647        14  \n"
     ]
    }
   ],
   "source": [
    "# filter rows with average rating of 9.5\n",
    "df_horror_10 = df_horror_votes[df_horror_votes['averageRating'] >= 9.5]\n",
    "print(df_horror_10)"
   ]
  }
 ],
 "metadata": {
  "kernelspec": {
   "display_name": "Python 3.10.7 64-bit",
   "language": "python",
   "name": "python3"
  },
  "language_info": {
   "codemirror_mode": {
    "name": "ipython",
    "version": 3
   },
   "file_extension": ".py",
   "mimetype": "text/x-python",
   "name": "python",
   "nbconvert_exporter": "python",
   "pygments_lexer": "ipython3",
   "version": "3.10.7"
  },
  "orig_nbformat": 4,
  "vscode": {
   "interpreter": {
    "hash": "2e9c25df0253b19710fd2eabc0119b804c820fc74e8ba938ebab686d76fc4dfb"
   }
  }
 },
 "nbformat": 4,
 "nbformat_minor": 2
}
